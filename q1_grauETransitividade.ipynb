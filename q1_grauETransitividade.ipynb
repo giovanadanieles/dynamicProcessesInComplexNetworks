{
 "cells": [
  {
   "cell_type": "markdown",
   "id": "8b99b4f4",
   "metadata": {},
   "source": [
    "# Grau e transitividade\n",
    "\n",
    "### Questionário 1 — Processos Dinâmicos em Redes Complexas"
   ]
  },
  {
   "cell_type": "markdown",
   "id": "329225a1",
   "metadata": {},
   "source": [
    "Giovana Daniele da Silva, 10692224"
   ]
  },
  {
   "cell_type": "markdown",
   "id": "1d108258",
   "metadata": {},
   "source": [
    "_________"
   ]
  },
  {
   "cell_type": "code",
   "execution_count": 1,
   "id": "c2fbdc05",
   "metadata": {},
   "outputs": [],
   "source": [
    "import math\n",
    "import igraph\n",
    "import numpy as np"
   ]
  },
  {
   "cell_type": "code",
   "execution_count": 2,
   "id": "fec304fa",
   "metadata": {},
   "outputs": [],
   "source": [
    "def get_net(path, directed=False, weighted=False):\n",
    "    g = igraph.Graph.Read_Ncol(path, directed=directed, weights=weighted)\n",
    "    g = g.simplify()\n",
    "    \n",
    "    cl = g.clusters()\n",
    "    lcc = cl.giant()\n",
    "    \n",
    "    return lcc"
   ]
  },
  {
   "cell_type": "markdown",
   "id": "7a150e51",
   "metadata": {},
   "source": [
    "____"
   ]
  },
  {
   "cell_type": "markdown",
   "id": "a60598c6",
   "metadata": {},
   "source": [
    "#### 1. Para a rede do livro \"Os Miseráveis\" (base Lesmis), calcule o terceiro e quarto momento do grau."
   ]
  },
  {
   "cell_type": "code",
   "execution_count": 3,
   "id": "5bbf0d12",
   "metadata": {},
   "outputs": [],
   "source": [
    "g = get_net(\"data/lesmis.txt\", weighted=True)"
   ]
  },
  {
   "cell_type": "code",
   "execution_count": 4,
   "id": "a31adc20",
   "metadata": {},
   "outputs": [],
   "source": [
    "def moment(G,m):\n",
    "    M, N = 0, G.vcount()\n",
    "    \n",
    "    for node in G.vs:\n",
    "        M = M + G.degree(node)**m\n",
    "        \n",
    "    return M/N"
   ]
  },
  {
   "cell_type": "code",
   "execution_count": 5,
   "id": "97d653cf",
   "metadata": {},
   "outputs": [
    {
     "name": "stdout",
     "output_type": "stream",
     "text": [
      "Terceiro momento do grau: 1408.0\n",
      "Quarto momento do grau: 33593.0\n"
     ]
    }
   ],
   "source": [
    "print(\"Terceiro momento do grau:\", round(moment(g, 3), 0))\n",
    "print(\"Quarto momento do grau:\", round(moment(g, 4), 0))"
   ]
  },
  {
   "cell_type": "markdown",
   "id": "aa4accd1",
   "metadata": {},
   "source": [
    "____"
   ]
  },
  {
   "cell_type": "markdown",
   "id": "2c1d4658",
   "metadata": {},
   "source": [
    "#### 2. Implemente uma rotina para calcular a medida de complexidade. Qual o valor da complexidade para a rede de energia elétrica dos EUA (base powergrid)?"
   ]
  },
  {
   "cell_type": "code",
   "execution_count": 6,
   "id": "817f8f85",
   "metadata": {},
   "outputs": [],
   "source": [
    "def complexity(G):\n",
    "    return moment(G, 2) / moment(G, 1)"
   ]
  },
  {
   "cell_type": "code",
   "execution_count": 7,
   "id": "4168ad81",
   "metadata": {},
   "outputs": [],
   "source": [
    "g = get_net(\"data/powergrid.txt\")"
   ]
  },
  {
   "cell_type": "code",
   "execution_count": 8,
   "id": "6a1d07b1",
   "metadata": {},
   "outputs": [
    {
     "name": "stdout",
     "output_type": "stream",
     "text": [
      "Complexidade: 3.87\n"
     ]
    }
   ],
   "source": [
    "print(\"Complexidade:\", round(complexity(g), 2))"
   ]
  },
  {
   "cell_type": "markdown",
   "id": "4413cd84",
   "metadata": {},
   "source": [
    "___"
   ]
  },
  {
   "cell_type": "markdown",
   "id": "017138dd",
   "metadata": {},
   "source": [
    "#### 3. Implemente uma rotina para calcular a entropia de Shannon e calcule essa medida para a base de estradas da Europa (base euroroad)."
   ]
  },
  {
   "cell_type": "code",
   "execution_count": 9,
   "id": "d1960a47",
   "metadata": {},
   "outputs": [],
   "source": [
    "g = get_net(\"data/euroroad.txt\")"
   ]
  },
  {
   "cell_type": "code",
   "execution_count": 10,
   "id": "dcea596b",
   "metadata": {},
   "outputs": [],
   "source": [
    "def degree_distribution(G):\n",
    "    vk = np.array(G.degree()) \n",
    "    \n",
    "    maxk = np.max(vk)\n",
    "    mink = np.min(vk)\n",
    "    \n",
    "    kvalues= np.arange(0, maxk+1)\n",
    "    Pk = np.zeros(maxk+1)\n",
    "    \n",
    "    for k in vk:\n",
    "        Pk[k] = Pk[k] + 1\n",
    "        \n",
    "    Pk = Pk/sum(Pk)\n",
    "    \n",
    "    return kvalues, Pk"
   ]
  },
  {
   "cell_type": "code",
   "execution_count": 11,
   "id": "f7f1d3dc",
   "metadata": {},
   "outputs": [],
   "source": [
    "def shannon_entropy(G):\n",
    "    k, Pk = degree_distribution(G)\n",
    "    H = 0\n",
    "    \n",
    "    for p in Pk:\n",
    "        if(p > 0):\n",
    "            H = H - p*math.log(p, 2)\n",
    "            \n",
    "    return H"
   ]
  },
  {
   "cell_type": "code",
   "execution_count": 12,
   "id": "dc39d5bc",
   "metadata": {},
   "outputs": [
    {
     "name": "stdout",
     "output_type": "stream",
     "text": [
      "Entropia de Shannon: 2.0\n"
     ]
    }
   ],
   "source": [
    "print(\"Entropia de Shannon:\", round(shannon_entropy(g), 2))"
   ]
  },
  {
   "cell_type": "markdown",
   "id": "02d7caa1",
   "metadata": {},
   "source": [
    "____"
   ]
  },
  {
   "cell_type": "markdown",
   "id": "352d2ae0",
   "metadata": {},
   "source": [
    "#### 4. Calcule as medidas transitivity e average clustering coefficient para a base de dados de aeroportos do EUA (base usairport)."
   ]
  },
  {
   "cell_type": "code",
   "execution_count": 13,
   "id": "f540c5e9",
   "metadata": {},
   "outputs": [],
   "source": [
    "g = get_net(\"data/usairport.txt\", weighted=True)"
   ]
  },
  {
   "cell_type": "code",
   "execution_count": 14,
   "id": "864a7499",
   "metadata": {},
   "outputs": [
    {
     "name": "stdout",
     "output_type": "stream",
     "text": [
      "Transitivity: 0.38\n",
      "Average clustering coefficient: 0.5\n"
     ]
    }
   ],
   "source": [
    "print(\"Transitivity:\", round(g.transitivity_undirected(), 2))\n",
    "print(\"Average clustering coefficient:\", round(g.transitivity_avglocal_undirected(\"zero\"), 2))"
   ]
  },
  {
   "cell_type": "markdown",
   "id": "6f26a497",
   "metadata": {},
   "source": [
    "___"
   ]
  },
  {
   "cell_type": "markdown",
   "id": "b9ea7fb9",
   "metadata": {},
   "source": [
    "#### 5. Calcule o coeficiente de complexidade e a entropia de Shannon para a rede de aeroportos dos EUA (base usairport)."
   ]
  },
  {
   "cell_type": "code",
   "execution_count": 15,
   "id": "94917d23",
   "metadata": {},
   "outputs": [],
   "source": [
    "g = get_net(\"data/usairport.txt\", weighted=True)"
   ]
  },
  {
   "cell_type": "code",
   "execution_count": 16,
   "id": "54d146b8",
   "metadata": {},
   "outputs": [
    {
     "name": "stdout",
     "output_type": "stream",
     "text": [
      "Complexidade: 112.2\n",
      "Entropia de Shannon: 4.99\n"
     ]
    }
   ],
   "source": [
    "print(\"Complexidade:\", round(complexity(g), 1))\n",
    "print(\"Entropia de Shannon:\", round(shannon_entropy(g), 2))"
   ]
  }
 ],
 "metadata": {
  "kernelspec": {
   "display_name": "Python 3",
   "language": "python",
   "name": "python3"
  },
  "language_info": {
   "codemirror_mode": {
    "name": "ipython",
    "version": 3
   },
   "file_extension": ".py",
   "mimetype": "text/x-python",
   "name": "python",
   "nbconvert_exporter": "python",
   "pygments_lexer": "ipython3",
   "version": "3.6.9"
  }
 },
 "nbformat": 4,
 "nbformat_minor": 5
}
