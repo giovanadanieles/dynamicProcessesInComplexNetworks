{
 "cells": [
  {
   "cell_type": "markdown",
   "id": "a58e53af",
   "metadata": {},
   "source": [
    "# Distância e correlação\n",
    "\n",
    "### Questionário 2 — Processos Dinâmicos em Redes Complexas"
   ]
  },
  {
   "cell_type": "markdown",
   "id": "e6c19107",
   "metadata": {},
   "source": [
    "Giovana Daniele da Silva, 10692224"
   ]
  },
  {
   "cell_type": "markdown",
   "id": "907be2f3",
   "metadata": {},
   "source": [
    "____"
   ]
  },
  {
   "cell_type": "code",
   "execution_count": 1,
   "id": "3545ada7",
   "metadata": {},
   "outputs": [],
   "source": [
    "import math\n",
    "import igraph\n",
    "import numpy as np\n",
    "from scipy.stats import pearsonr\n",
    "from collections import defaultdict"
   ]
  },
  {
   "cell_type": "code",
   "execution_count": 2,
   "id": "ef9703bb",
   "metadata": {},
   "outputs": [],
   "source": [
    "def get_net(path, directed=False, weighted=False):\n",
    "    g = igraph.Graph.Read_Ncol(path, directed=directed, weights=weighted)\n",
    "    g = g.simplify()\n",
    "    \n",
    "    cl = g.clusters()\n",
    "    lcc = cl.giant()\n",
    "    \n",
    "    return lcc"
   ]
  },
  {
   "cell_type": "markdown",
   "id": "e3acde55",
   "metadata": {},
   "source": [
    "___"
   ]
  },
  {
   "cell_type": "markdown",
   "id": "8df0eca2",
   "metadata": {},
   "source": [
    "#### 1. Para a rede social Hamsterster, calcule a média dos menores caminhos e o diâmetro. Considere apenas o maior componente."
   ]
  },
  {
   "cell_type": "code",
   "execution_count": 3,
   "id": "6c3d4d45",
   "metadata": {},
   "outputs": [],
   "source": [
    "g = get_net(\"data/hamsterster.txt\")"
   ]
  },
  {
   "cell_type": "code",
   "execution_count": 4,
   "id": "00c5fcda",
   "metadata": {},
   "outputs": [
    {
     "name": "stdout",
     "output_type": "stream",
     "text": [
      "Média dos menores caminhos: 3.5\n",
      "Diâmetro: 14\n"
     ]
    }
   ],
   "source": [
    "print(\"Média dos menores caminhos:\", round(np.mean(g.shortest_paths()), 1))\n",
    "print(\"Diâmetro:\", g.diameter())"
   ]
  },
  {
   "cell_type": "markdown",
   "id": "4bece116",
   "metadata": {},
   "source": [
    "___"
   ]
  },
  {
   "cell_type": "markdown",
   "id": "7813c1d8",
   "metadata": {},
   "source": [
    "#### 2. Para a rede de aeroportos (base USairport500), calcule a média e variância do comprimento dos menores caminhos. Considere apenas o maior componente na rede."
   ]
  },
  {
   "cell_type": "code",
   "execution_count": 5,
   "id": "7cf86e12",
   "metadata": {},
   "outputs": [],
   "source": [
    "g = get_net(\"data/USairport500.txt\")"
   ]
  },
  {
   "cell_type": "code",
   "execution_count": 6,
   "id": "c975870a",
   "metadata": {},
   "outputs": [
    {
     "name": "stdout",
     "output_type": "stream",
     "text": [
      "Média do comprimento dos menores caminhos: 2.99\n",
      "Variância do comprimento dos menores caminhos: 0.83\n"
     ]
    }
   ],
   "source": [
    "print(\"Média do comprimento dos menores caminhos:\", round(np.mean(g.shortest_paths()), 2))\n",
    "print(\"Variância do comprimento dos menores caminhos:\", round(np.var(g.shortest_paths()), 2))"
   ]
  },
  {
   "cell_type": "markdown",
   "id": "fcd6f7ba",
   "metadata": {},
   "source": [
    "____"
   ]
  },
  {
   "cell_type": "markdown",
   "id": "306be467",
   "metadata": {},
   "source": [
    "#### 3. Calcule o coeficiente de assortatividade para a rede Advogato. Considere apenas o maior componente."
   ]
  },
  {
   "cell_type": "code",
   "execution_count": 7,
   "id": "5b04354a",
   "metadata": {},
   "outputs": [],
   "source": [
    "g = get_net(\"data/advogato.txt\")"
   ]
  },
  {
   "cell_type": "code",
   "execution_count": 8,
   "id": "f465f208",
   "metadata": {},
   "outputs": [
    {
     "name": "stdout",
     "output_type": "stream",
     "text": [
      "Assortatividade: -0.096\n"
     ]
    }
   ],
   "source": [
    "print(\"Assortatividade:\", round(g.assortativity_degree(directed=False), 3))"
   ]
  },
  {
   "cell_type": "markdown",
   "id": "4b3e0686",
   "metadata": {},
   "source": [
    "___"
   ]
  },
  {
   "cell_type": "markdown",
   "id": "46b5bc4d",
   "metadata": {},
   "source": [
    "#### 4. Para a rede de aeroportos (USairport500), calcule a entropia de Shannon considerando o comprimento dos menores caminhos. Use o logaritmo na base 2 e considere apenas o maior componente."
   ]
  },
  {
   "cell_type": "code",
   "execution_count": 9,
   "id": "93606715",
   "metadata": {},
   "outputs": [],
   "source": [
    "g = get_net(\"data/USairport500.txt\")"
   ]
  },
  {
   "cell_type": "code",
   "execution_count": 10,
   "id": "e190c7e7",
   "metadata": {},
   "outputs": [],
   "source": [
    "def shortest_path_distribution(G):\n",
    "    vk = np.array([shortest_path for node in g.shortest_paths() for shortest_path in node])\n",
    "    \n",
    "    maxk = np.max(vk)\n",
    "    mink = np.min(vk)\n",
    "    \n",
    "    kvalues= np.arange(0, maxk+1)\n",
    "    Pk = np.zeros(maxk+1)\n",
    "    \n",
    "    for k in vk:\n",
    "        Pk[k] = Pk[k] + 1\n",
    "        \n",
    "    Pk = Pk/sum(Pk)\n",
    "    \n",
    "    return kvalues, Pk"
   ]
  },
  {
   "cell_type": "code",
   "execution_count": 11,
   "id": "3a4573a1",
   "metadata": {},
   "outputs": [],
   "source": [
    "def shannon_entropy(G):\n",
    "    k, Pk = shortest_path_distribution(G)\n",
    "    H = 0\n",
    "    \n",
    "    for p in Pk:\n",
    "        if(p > 0):\n",
    "            H = H - p*math.log(p, 2)\n",
    "            \n",
    "    return H"
   ]
  },
  {
   "cell_type": "code",
   "execution_count": 12,
   "id": "23ab8a2d",
   "metadata": {},
   "outputs": [
    {
     "name": "stdout",
     "output_type": "stream",
     "text": [
      "Entropia de Shannon considerando o comprimento dos menores caminhos: 1.9\n"
     ]
    }
   ],
   "source": [
    "print(\"Entropia de Shannon considerando o comprimento dos menores caminhos:\",\n",
    "      round(shannon_entropy(g.shortest_paths()), 2))"
   ]
  },
  {
   "cell_type": "markdown",
   "id": "63e3b854",
   "metadata": {},
   "source": [
    "___"
   ]
  },
  {
   "cell_type": "markdown",
   "id": "7696ab0e",
   "metadata": {},
   "source": [
    "#### 5. Calcule o coeficiente de correlação de Pearson entre o grau médio dos vizinhos e o grau para a rede de palavras (word_adjacencies). Considere apenas o maior componente conectado."
   ]
  },
  {
   "cell_type": "code",
   "execution_count": 13,
   "id": "8d7c98be",
   "metadata": {},
   "outputs": [],
   "source": [
    "g = get_net(\"data/word_adjacencies.txt\")"
   ]
  },
  {
   "cell_type": "code",
   "execution_count": 14,
   "id": "3d389d9c",
   "metadata": {},
   "outputs": [],
   "source": [
    "def get_degree_and_avg_degree_of_neighbors_of_degree(G):\n",
    "    degree_of_neighbors_of_degree = defaultdict(list)\n",
    "    avg_degree_neighbors = defaultdict(int)\n",
    "\n",
    "    for node in G.vs:\n",
    "        degree_of_neighbors_of_degree[node.degree()].extend(G.degree(G.neighbors(node)))\n",
    "\n",
    "    for degree in degree_of_neighbors_of_degree.keys():\n",
    "        avg_degree_neighbors[degree] = np.mean(degree_of_neighbors_of_degree[degree])\n",
    "        \n",
    "    return list(avg_degree_neighbors.keys()), list(avg_degree_neighbors.values())"
   ]
  },
  {
   "cell_type": "code",
   "execution_count": 15,
   "id": "79ca970c",
   "metadata": {},
   "outputs": [],
   "source": [
    "degrees, avg_degree_of_neighs = get_degree_and_avg_degree_of_neighbors_of_degree(g)"
   ]
  },
  {
   "cell_type": "code",
   "execution_count": 16,
   "id": "91677649",
   "metadata": {},
   "outputs": [
    {
     "name": "stdout",
     "output_type": "stream",
     "text": [
      "A correlação entre o grau e o grau médio dos vizinhos do grau é: -0.71\n"
     ]
    }
   ],
   "source": [
    "print(\"A correlação entre o grau e o grau médio dos vizinhos do grau é:\", \n",
    "      round(pearsonr(degrees, avg_degree_of_neighs)[0], 2))"
   ]
  }
 ],
 "metadata": {
  "kernelspec": {
   "display_name": "Python 3",
   "language": "python",
   "name": "python3"
  },
  "language_info": {
   "codemirror_mode": {
    "name": "ipython",
    "version": 3
   },
   "file_extension": ".py",
   "mimetype": "text/x-python",
   "name": "python",
   "nbconvert_exporter": "python",
   "pygments_lexer": "ipython3",
   "version": "3.6.9"
  }
 },
 "nbformat": 4,
 "nbformat_minor": 5
}
